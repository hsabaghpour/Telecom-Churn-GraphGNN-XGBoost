{
  "nbformat": 4,
  "nbformat_minor": 0,
  "metadata": {
    "colab": {
      "provenance": [],
      "authorship_tag": "ABX9TyOjQmkn8yUVlEWEFa5ZqToh",
      "include_colab_link": true
    },
    "kernelspec": {
      "name": "python3",
      "display_name": "Python 3"
    },
    "language_info": {
      "name": "python"
    }
  },
  "cells": [
    {
      "cell_type": "markdown",
      "metadata": {
        "id": "view-in-github",
        "colab_type": "text"
      },
      "source": [
        "<a href=\"https://colab.research.google.com/github/hsabaghpour/Telecom-Churn-GraphGNN-XGBoost/blob/main/telecom_customer_churn_prediction_using_graph_based_solutions_and_XGBoost.ipynb\" target=\"_parent\"><img src=\"https://colab.research.google.com/assets/colab-badge.svg\" alt=\"Open In Colab\"/></a>"
      ]
    },
    {
      "cell_type": "code",
      "execution_count": null,
      "metadata": {
        "id": "uF4O8X9u_Zbv"
      },
      "outputs": [],
      "source": [
        "pip install spektral xgboost tensorflow"
      ]
    },
    {
      "cell_type": "code",
      "source": [
        "import numpy as np\n",
        "import tensorflow as tf\n",
        "from spektral.layers import GraphConv\n",
        "from spektral.data import Dataset, Graph\n",
        "from spektral.data.loaders import SingleLoader\n",
        "from sklearn.model_selection import train_test_split\n",
        "import xgboost as xgb\n",
        "\n",
        "# Example data\n",
        "# Node features: customer features (e.g., usage patterns, demographics)\n",
        "X = np.random.rand(1000, 10)  # 1000 customers, 10 features each\n",
        "\n",
        "# Edges (graph connectivity between customers based on network interactions)\n",
        "A = np.random.rand(1000, 1000)\n",
        "A[A < 0.95] = 0  # Sparsify the adjacency matrix (threshold for connectivity)\n",
        "\n",
        "# Labels (churn or not churn)\n",
        "y = np.random.randint(0, 2, 1000)"
      ],
      "metadata": {
        "id": "NIRMQIBV_bLO"
      },
      "execution_count": null,
      "outputs": []
    },
    {
      "cell_type": "code",
      "source": [
        "class TelecomCommunityGNN(tf.keras.Model):\n",
        "    def __init__(self):\n",
        "        super().__init__()\n",
        "        self.graph_conv1 = GraphConv(16, activation='relu')\n",
        "        self.graph_conv2 = GraphConv(16, activation='relu')\n",
        "        self.graph_conv3 = GraphConv(8, activation='relu')\n",
        "        self.dense = tf.keras.layers.Dense(2, activation='softmax')  # Output layer\n",
        "\n",
        "    def call(self, inputs):\n",
        "        x, a = inputs  # x: node features, a: adjacency matrix\n",
        "        x = self.graph_conv1([x, a])\n",
        "        x = self.graph_conv2([x, a])\n",
        "        x = self.graph_conv3([x, a])\n",
        "        return self.dense(x)\n",
        "\n",
        "# Prepare adjacency matrix and features\n",
        "adjacency_matrix = A\n",
        "features = X\n",
        "labels = y\n",
        "\n",
        "# Train-test split\n",
        "X_train, X_test, y_train, y_test = train_test_split(features, labels, test_size=0.2, random_state=42)\n",
        "\n",
        "# Initialize GNN model\n",
        "gnn_model = TelecomCommunityGNN()\n",
        "\n",
        "# Compile the GNN model\n",
        "gnn_model.compile(optimizer='adam', loss='sparse_categorical_crossentropy', metrics=['accuracy'])\n",
        "\n",
        "# Train GNN model\n",
        "gnn_model.fit([X_train, adjacency_matrix], y_train, epochs=20, batch_size=32, validation_split=0.1)"
      ],
      "metadata": {
        "id": "QFPbsfjv_g2g"
      },
      "execution_count": null,
      "outputs": []
    },
    {
      "cell_type": "code",
      "source": [
        "# Extract node embeddings (community representation)\n",
        "embeddings = gnn_model.predict([X, A])\n",
        "\n",
        "# Combine GNN embeddings with original features for XGBoost input\n",
        "X_combined = np.concatenate([X, embeddings], axis=1)"
      ],
      "metadata": {
        "id": "0LNesmoF_mXo"
      },
      "execution_count": null,
      "outputs": []
    },
    {
      "cell_type": "code",
      "source": [
        "# Split data for XGBoost\n",
        "X_train_combined, X_test_combined, y_train, y_test = train_test_split(X_combined, y, test_size=0.2, random_state=42)\n",
        "\n",
        "# Train XGBoost model\n",
        "xgb_model = xgb.XGBClassifier(n_estimators=100, learning_rate=0.1, max_depth=6)\n",
        "xgb_model.fit(X_train_combined, y_train)\n",
        "\n",
        "# Make predictions\n",
        "y_pred = xgb_model.predict(X_test_combined)\n",
        "\n",
        "# Evaluate model\n",
        "from sklearn.metrics import accuracy_score, classification_report\n",
        "print(f\"Accuracy: {accuracy_score(y_test, y_pred)}\")\n",
        "print(f\"Classification Report:\\n{classification_report(y_test, y_pred)}\")"
      ],
      "metadata": {
        "id": "MG7xDdxv_ogH"
      },
      "execution_count": null,
      "outputs": []
    }
  ]
}